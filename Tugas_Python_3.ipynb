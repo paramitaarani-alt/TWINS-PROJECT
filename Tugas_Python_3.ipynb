{
 "cells": [
  {
   "cell_type": "markdown",
   "metadata": {},
   "source": [
    "# List, Set, Tuples, & Dictionary\n",
    "## Topik:\n",
    "- Memahami List, Set, Tuples, dan Dictionary\n",
    "- Memahami kombinasi list, set, tuples, dan dictionary untuk memecahkan masalah\n",
    "- Memahami cara memodifikasi data\n"
   ]
  },
  {
   "cell_type": "markdown",
   "metadata": {},
   "source": [
    "**Soal 1:** Buatlah sebuah list yang berisi angka dari 1-10. Print list-nya"
   ]
  },
  {
   "cell_type": "code",
   "execution_count": null,
   "metadata": {},
   "outputs": [],
   "source": [
    "#Solusi"
   ]
  },
  {
   "cell_type": "markdown",
   "metadata": {},
   "source": [
    "**Soal 2:** Print elemen pertama, tengah, dan terakhir dari list yang dibuat sebelumnya"
   ]
  },
  {
   "cell_type": "code",
   "execution_count": null,
   "metadata": {},
   "outputs": [],
   "source": [
    "#Solusi"
   ]
  },
  {
   "cell_type": "markdown",
   "metadata": {},
   "source": [
    "**Soal 3:** Print 3 elemen pertama, 3 elemen terakhir, dan juga elemen 5-9 dari list di atas"
   ]
  },
  {
   "cell_type": "code",
   "execution_count": null,
   "metadata": {},
   "outputs": [],
   "source": [
    "#Solusi"
   ]
  },
  {
   "cell_type": "markdown",
   "metadata": {},
   "source": [
    "**Soal 4:** Selesaikan program di bawah dengan rincian syarat seperti berikut:\n",
    "\n",
    "Menampilkan angka 1,2,3\n",
    "\n",
    "Menampilkan string \"hello\",\"world\"\n",
    "\n",
    "Menampilkan nama ke-3 dari list nama"
   ]
  },
  {
   "cell_type": "code",
   "execution_count": null,
   "metadata": {},
   "outputs": [],
   "source": [
    "numbers = []\n",
    "strings = []\n",
    "names = [\"Budi\",\"Aldi\",\"Cika\",\"Desi\"]\n",
    "\n",
    "# write your code here\n",
    "third_name = None\n",
    "\n",
    "\n",
    "# this code should write out the filled arrays and the second name in the names list (Eric).\n",
    "print(numbers)\n",
    "print(strings)\n",
    "print(\"Nama ketiga dari list nama adalah %s\" % third_name)\n"
   ]
  },
  {
   "cell_type": "markdown",
   "metadata": {},
   "source": [
    "**Soal 5:** Buatlah sebuah list yang berisi nilai kuadrat dari bilangan ganjil 1-20 menggunakan list comprehension"
   ]
  },
  {
   "cell_type": "code",
   "execution_count": null,
   "metadata": {},
   "outputs": [],
   "source": [
    "# Solusi\n"
   ]
  },
  {
   "cell_type": "markdown",
   "metadata": {},
   "source": [
    "**Soal 6:**  Urutkan secara ascending list di bawah dan hapus elemen yang kembar (data duplikat)\n"
   ]
  },
  {
   "cell_type": "code",
   "execution_count": null,
   "metadata": {},
   "outputs": [],
   "source": [
    "numbers = [4,9,2,34,95,5,30,64,4,8,75,9,23,34,4,9,5,20,95,4,81]\n",
    "\n",
    "# Solusi\n",
    "\n"
   ]
  },
  {
   "cell_type": "markdown",
   "metadata": {},
   "source": [
    "**Soal 7:** Buat matrix angka 3x3 menggunakan nested list, kemudian print bentuk matriknya. Tampilkan juga elemen dari baris 3 kolom ke 2"
   ]
  },
  {
   "cell_type": "code",
   "execution_count": 4,
   "metadata": {},
   "outputs": [],
   "source": [
    "# Solusi\n"
   ]
  },
  {
   "cell_type": "markdown",
   "metadata": {},
   "source": [
    "**Soal 8:** Buatlah sebuah list dari dictionary minimal 6 elemen dengan kunci \"nama\" dan \"skor\" di mana \"nama\" berisi elemen nama dan \"skor\" berisi nilai. Tampilkan list tersebut dari urutan nilai paling tinggi ke rendah (descending)"
   ]
  },
  {
   "cell_type": "code",
   "execution_count": 15,
   "metadata": {},
   "outputs": [],
   "source": [
    "#Solusi\n"
   ]
  },
  {
   "cell_type": "markdown",
   "metadata": {},
   "source": [
    "**Soal 9:** Ubahlah list 3x3 di bawah ini menjadi list satu baris dan tampilkan isinya"
   ]
  },
  {
   "cell_type": "code",
   "execution_count": null,
   "metadata": {},
   "outputs": [],
   "source": [
    "nested_list = [\n",
    "    [1, 2, 3],\n",
    "    [4, 5, 6],\n",
    "    [7, 8, 9]\n",
    "]\n",
    "\n",
    "#Solusi"
   ]
  },
  {
   "cell_type": "markdown",
   "metadata": {},
   "source": [
    "**Soal 10:** Buatlah sebuah list, lalu buatlah reverse_list membalikkan nilai dari list sebelumnya. Tampilkan keduanya"
   ]
  },
  {
   "cell_type": "code",
   "execution_count": null,
   "metadata": {},
   "outputs": [],
   "source": [
    "# Solusi"
   ]
  },
  {
   "cell_type": "markdown",
   "metadata": {},
   "source": [
    "**Soal 11:** Buatlah sebuah set yang berisi angka dari 1-10. Print hasilnya"
   ]
  },
  {
   "cell_type": "code",
   "execution_count": 17,
   "metadata": {},
   "outputs": [],
   "source": [
    "# Solusi\n"
   ]
  },
  {
   "cell_type": "markdown",
   "metadata": {},
   "source": [
    "**Soal 12:** Dari set sebelumnya, tambahkan elemen ke-11 dan hapus elemen pertamanya"
   ]
  },
  {
   "cell_type": "code",
   "execution_count": null,
   "metadata": {},
   "outputs": [],
   "source": [
    "# Solusi\n",
    "\n"
   ]
  },
  {
   "cell_type": "markdown",
   "metadata": {},
   "source": [
    "**Soal 13:** Tampilkan union, intersection, difference, dan symmetric difference dari 2 set dibawah ini.\n",
    "\n",
    "Jika tidak paham istilah di atas, bisa dicari di browser."
   ]
  },
  {
   "cell_type": "code",
   "execution_count": null,
   "metadata": {},
   "outputs": [],
   "source": [
    "set1 = set(range(1, 6))\n",
    "set2 = set(range(2, 11, 2))\n",
    "\n",
    "# Solusi\n",
    "\n"
   ]
  },
  {
   "cell_type": "markdown",
   "metadata": {},
   "source": [
    "**Soal 14:** Buatlah set comprehension yang berisi nilai kuadrat dari bilangan 1-10"
   ]
  },
  {
   "cell_type": "code",
   "execution_count": null,
   "metadata": {},
   "outputs": [],
   "source": [
    "#Solusi"
   ]
  },
  {
   "cell_type": "markdown",
   "metadata": {},
   "source": [
    "**Soal 15:** Dari set sebelumnya, saringlah elemen yang termasuk bilangan genap"
   ]
  },
  {
   "cell_type": "code",
   "execution_count": null,
   "metadata": {},
   "outputs": [],
   "source": [
    "#Solusi"
   ]
  },
  {
   "cell_type": "markdown",
   "metadata": {},
   "source": [
    "**Soal 16:** Buatlah set dari list di bawah ini dan hapus data duplikatnya"
   ]
  },
  {
   "cell_type": "code",
   "execution_count": null,
   "metadata": {},
   "outputs": [],
   "source": [
    "lst = [1,2,2,3,4,5,5,6,6]\n",
    "\n",
    "#Solusi"
   ]
  },
  {
   "cell_type": "markdown",
   "metadata": {},
   "source": [
    "**Soal 17:** Buatlah set dari 5 angka pertama bilangan bulat, kemudian ubah ke dalam bentuk list, append angka 6, ubah lagi ke set."
   ]
  },
  {
   "cell_type": "code",
   "execution_count": null,
   "metadata": {},
   "outputs": [],
   "source": [
    "#Solusi"
   ]
  },
  {
   "cell_type": "markdown",
   "metadata": {},
   "source": [
    "**Soal 18:** Buatlah sebuah frozenset yang berisi angka bilangan ganjil dari 1-10"
   ]
  },
  {
   "cell_type": "code",
   "execution_count": null,
   "metadata": {},
   "outputs": [],
   "source": [
    "#Solusi"
   ]
  },
  {
   "cell_type": "markdown",
   "metadata": {},
   "source": [
    "**Soal 19:** Buatlah dictionary dari set sebagai key, dan nilainya bertipe string "
   ]
  },
  {
   "cell_type": "code",
   "execution_count": null,
   "metadata": {},
   "outputs": [],
   "source": [
    "#Solusi\n",
    "#Gunakan frozenset untuk membuat dictionary dari set"
   ]
  },
  {
   "cell_type": "markdown",
   "metadata": {},
   "source": [
    "**Soal 20:** Buatlah sebuah set dari angka 1-7, kemudian cek apakah angka 3 dan 8 termasuk elemen tersebut"
   ]
  },
  {
   "cell_type": "code",
   "execution_count": null,
   "metadata": {},
   "outputs": [],
   "source": [
    "#Solusi"
   ]
  },
  {
   "cell_type": "markdown",
   "metadata": {},
   "source": [
    "**Soal 21:** Buatlah sebuah tuple dari angka 1-10, print tuple tersebut."
   ]
  },
  {
   "cell_type": "code",
   "execution_count": null,
   "metadata": {},
   "outputs": [],
   "source": [
    "#Solusi"
   ]
  },
  {
   "cell_type": "markdown",
   "metadata": {},
   "source": [
    "**Soal 22:** Print elemen ke-2, ke-4, dan ke-9 dari tuple di atas"
   ]
  },
  {
   "cell_type": "code",
   "execution_count": null,
   "metadata": {},
   "outputs": [],
   "source": [
    "#Solusi"
   ]
  },
  {
   "cell_type": "markdown",
   "metadata": {},
   "source": [
    "**Soal 23:** Print 3 elemen pertama, 3 elemen terakhir, dan elemen ke 2-7"
   ]
  },
  {
   "cell_type": "code",
   "execution_count": null,
   "metadata": {},
   "outputs": [],
   "source": [
    "#Solusi"
   ]
  },
  {
   "cell_type": "markdown",
   "metadata": {},
   "source": [
    "**Soal 24:** Buatlah tuples 4x4 yang berisi angka, kemudian tampilkan elemen baris 2 kolom ketiga"
   ]
  },
  {
   "cell_type": "code",
   "execution_count": null,
   "metadata": {},
   "outputs": [],
   "source": [
    "#Solusi"
   ]
  },
  {
   "cell_type": "markdown",
   "metadata": {},
   "source": [
    "**Soal 25:** Buatlah sebuah set dari angka 1-7, kemudian cek apakah angka 3 dan 8 termasuk elemen tersebut"
   ]
  },
  {
   "cell_type": "code",
   "execution_count": null,
   "metadata": {},
   "outputs": [],
   "source": [
    "#Solusi"
   ]
  },
  {
   "cell_type": "markdown",
   "metadata": {},
   "source": [
    "**Soal 26:** Gabungkan dua tuple di bawah ini"
   ]
  },
  {
   "cell_type": "code",
   "execution_count": null,
   "metadata": {},
   "outputs": [],
   "source": [
    "num1 = (1,2,3)\n",
    "num2 = (10,20)\n",
    "\n",
    "#Solusi"
   ]
  },
  {
   "cell_type": "markdown",
   "metadata": {},
   "source": [
    "**Soal 27:** Lengkapi program di bawah sehingga menghasilkan output jumlah angka 3 yang kembar dan indeks elemen pertama yang kembar."
   ]
  },
  {
   "cell_type": "code",
   "execution_count": null,
   "metadata": {},
   "outputs": [],
   "source": [
    "tpl = (1,2,3,4,5,3,6,4,3,7,3)\n",
    "#Solusi\n",
    "#Gunakan count untuk menghitung angka yang kembar"
   ]
  },
  {
   "cell_type": "markdown",
   "metadata": {},
   "source": [
    "**Soal 28:** Buatlah tuple yang berisi 5 elemen, kemudian unpack tuple tersebut menjadi 5 variable. print kelima variabelnya"
   ]
  },
  {
   "cell_type": "code",
   "execution_count": null,
   "metadata": {},
   "outputs": [],
   "source": [
    "#Solusi"
   ]
  },
  {
   "cell_type": "markdown",
   "metadata": {},
   "source": [
    "**Soal 29:** Ubahlah list yang berisi 5 elemen ke dalam tuple"
   ]
  },
  {
   "cell_type": "code",
   "execution_count": null,
   "metadata": {},
   "outputs": [],
   "source": [
    "#Solusi"
   ]
  },
  {
   "cell_type": "markdown",
   "metadata": {},
   "source": [
    "**Soal 30:** Buatlah tuple yang berisi 3 nama, lalu masukkan nama baru ke dalam tuple tersebut"
   ]
  },
  {
   "cell_type": "code",
   "execution_count": null,
   "metadata": {},
   "outputs": [],
   "source": [
    "#Solusi"
   ]
  },
  {
   "cell_type": "markdown",
   "metadata": {},
   "source": [
    "**Soal 31:** Dari tuple di bawah ini: hapus data yang kembar, urutkan datanya, kemudian tambahkan angka 6 ke dalam elemennya."
   ]
  },
  {
   "cell_type": "code",
   "execution_count": null,
   "metadata": {},
   "outputs": [],
   "source": [
    "tpl_num = (8,4,6,2,1,7,8,4,20,9,6,3,4,5,2,7,8,4)\n",
    "\n",
    "#Solusi"
   ]
  },
  {
   "cell_type": "markdown",
   "metadata": {},
   "source": [
    "**Soal 32:** buatlah sebuah nested tuple, kemudian print tiap elemennya menggunakan iterasi"
   ]
  },
  {
   "cell_type": "code",
   "execution_count": null,
   "metadata": {},
   "outputs": [],
   "source": [
    "#Solusi"
   ]
  },
  {
   "cell_type": "markdown",
   "metadata": {},
   "source": [
    "**Soal 33:** Dari tuple di bawah ini: Hapus data kembar, kemudian tampilkan nilai tertinggi, nilai terendah, dan total nilai elemennya"
   ]
  },
  {
   "cell_type": "code",
   "execution_count": null,
   "metadata": {},
   "outputs": [],
   "source": [
    "#Solusi"
   ]
  },
  {
   "cell_type": "markdown",
   "metadata": {},
   "source": [
    "**Soal 34:** Buatlah sebuah dictionary dari angka 1-5 sebagai kuncinya, kemudian nilai kuadratnya sebagai nilainya."
   ]
  },
  {
   "cell_type": "code",
   "execution_count": null,
   "metadata": {},
   "outputs": [],
   "source": [
    "#Solusi"
   ]
  },
  {
   "cell_type": "markdown",
   "metadata": {},
   "source": [
    "**Soal 35:** Dari dictionary di atas, tampilkan key,value,dan item elemen ke-4"
   ]
  },
  {
   "cell_type": "code",
   "execution_count": null,
   "metadata": {},
   "outputs": [],
   "source": [
    "#Solusi"
   ]
  },
  {
   "cell_type": "markdown",
   "metadata": {},
   "source": [
    "**Soal 36:** Dari dictionary di atas, tambahkan pasangan key-value (6,36) dan hapus elemen dari key 1"
   ]
  },
  {
   "cell_type": "code",
   "execution_count": null,
   "metadata": {},
   "outputs": [],
   "source": [
    "#Solusi"
   ]
  },
  {
   "cell_type": "markdown",
   "metadata": {},
   "source": [
    "**Soal 37:** tampilkan semua nilai key, value, dan item dictionary di atas menggunakan iterasi"
   ]
  },
  {
   "cell_type": "code",
   "execution_count": null,
   "metadata": {},
   "outputs": [],
   "source": [
    "#Solusi"
   ]
  },
  {
   "cell_type": "markdown",
   "metadata": {},
   "source": [
    "**Soal 38:** Buatlah dictionary comprehension menggunakan 10 bilangan bulat pertama sebagai kuncinya, lalu nilai kuadratnya sebagai nilainya"
   ]
  },
  {
   "cell_type": "code",
   "execution_count": null,
   "metadata": {},
   "outputs": [],
   "source": [
    "#Solusi"
   ]
  },
  {
   "cell_type": "markdown",
   "metadata": {},
   "source": [
    "**Soal 39:** Buatlah dictionary dari list angka 1-5 sebagai kuncinya, kemudian list yang berisi nilai kuadratnya sebagai nilainya"
   ]
  },
  {
   "cell_type": "code",
   "execution_count": null,
   "metadata": {},
   "outputs": [],
   "source": [
    "#Solusi\n",
    "#Gunakan variabel data list sebagai key dan valuenya"
   ]
  },
  {
   "cell_type": "markdown",
   "metadata": {},
   "source": [
    "**Soal 40:** Buatlah dictionary dari tuple angka 1-5 sebagai kuncinya, kemudian list yang berisi nilai kuadratnya sebagai nilainya"
   ]
  },
  {
   "cell_type": "code",
   "execution_count": null,
   "metadata": {},
   "outputs": [],
   "source": [
    "#Solusi\n",
    "#Gunakan variabel data tuple sebagai key dan valuenya"
   ]
  },
  {
   "cell_type": "markdown",
   "metadata": {},
   "source": [
    "**Soal 41:** Buatlah dictionary dari angka 1-5 sebagai kuncinya dan nilai kuadrat sebagai nilainya, lalu ubahlah dictionary tersebut dalam bentuk list"
   ]
  },
  {
   "cell_type": "code",
   "execution_count": null,
   "metadata": {},
   "outputs": [],
   "source": [
    "dict =\n",
    "lst =\n",
    "#Solusi"
   ]
  },
  {
   "cell_type": "markdown",
   "metadata": {},
   "source": [
    "**Soal 42:** Buatlah Nested dictionary yang berisi \"nama\",\"umur\", dan elemen \"nama\" memiliki kunci \"nama lengkap\" dan \"nama panggilan\"."
   ]
  },
  {
   "cell_type": "code",
   "execution_count": null,
   "metadata": {},
   "outputs": [],
   "source": [
    "#Solusi"
   ]
  },
  {
   "cell_type": "markdown",
   "metadata": {},
   "source": [
    "**Soal 43:** Buatlah 2 dictionary yang berisi 3 angka sebagai kuncinya, nilai kuadrat sebagai nilainya, kemudian gabungkan keduanya menjadi 1 dictionary."
   ]
  },
  {
   "cell_type": "code",
   "execution_count": null,
   "metadata": {},
   "outputs": [],
   "source": [
    "#Solusi"
   ]
  },
  {
   "cell_type": "markdown",
   "metadata": {},
   "source": [
    "**Soal 43:** Buatlah dictionary yang berisi angka 1-10 sebagai kuncinya, nilai kuadratnya sebagai nilainya. Kemudian buat dictionary baru yang berisi hanya dari key yang berangka genap"
   ]
  },
  {
   "cell_type": "code",
   "execution_count": null,
   "metadata": {},
   "outputs": [],
   "source": [
    "#Solusi"
   ]
  },
  {
   "cell_type": "markdown",
   "metadata": {},
   "source": [
    "# <p align=\"center\"> Good Luck! </p>"
   ]
  }
 ],
 "metadata": {
  "kernelspec": {
   "display_name": "Python 3",
   "language": "python",
   "name": "python3"
  },
  "language_info": {
   "codemirror_mode": {
    "name": "ipython",
    "version": 3
   },
   "file_extension": ".py",
   "mimetype": "text/x-python",
   "name": "python",
   "nbconvert_exporter": "python",
   "pygments_lexer": "ipython3",
   "version": "3.13.0"
  }
 },
 "nbformat": 4,
 "nbformat_minor": 4
}
