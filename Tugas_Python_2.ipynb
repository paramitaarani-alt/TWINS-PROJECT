{
 "cells": [
  {
   "cell_type": "markdown",
   "metadata": {},
   "source": [
    "# Conditional & Loop\n",
    "## Topik:\n",
    "- Conditional Statement\n",
    "- Loops\n"
   ]
  },
  {
   "cell_type": "markdown",
   "metadata": {},
   "source": [
    "## 1. Conditional Statements\n",
    "\n",
    "**Soal 1:** Buatlah program menggunakan conditional statement yang dapat memasukkan angka tertentu, lalu menampilkan output angka tersebut bilangan positif atau negatif\n",
    "\n",
    "Output: \n",
    "\n",
    "69 merupakan bilangan positif\n",
    "\n",
    "-120 merupakan bilangan negatif\n",
    "\n",
    "0 merupakan nol"
   ]
  },
  {
   "cell_type": "code",
   "execution_count": null,
   "metadata": {},
   "outputs": [],
   "source": [
    "# Solusi\n",
    "num = float(input(\"MASUKKAN ANGKA\"))\n",
    "num1 = 69\n",
    "num2 = -120\n",
    "num = 0\n",
    "\n",
    "if number > 0:\n",
    "   print(num, \"Angka Positif\")\n",
    "elif number < 0:\n",
    "   print(num, \"Angka Negatif\")\n",
    "else:\n",
    "   print(num, \"Angka Nol\")\n",
    "\n"
   ]
  },
  {
   "cell_type": "markdown",
   "metadata": {},
   "source": [
    "**Soal 2:** Tulis program untuk mendeteksi input angka apakah angka tersebut masuk bilangan ganjil atau genap\n",
    "\n",
    "Output:\n",
    "\n",
    "96 merupakan bilangan genap\n",
    "\n",
    "1 merupakan bilangan ganjil"
   ]
  },
  {
   "cell_type": "code",
   "execution_count": null,
   "metadata": {},
   "outputs": [],
   "source": [
    "# Solusi\n",
    "num = int(input(\"Masukkan angka: \"))\n",
    "num1 = 96\n",
    "num2 = 1\n",
    "\n",
    "#Lanjutkan program di bawah\n",
    "if num % 2 == 0:\n",
    "   print(str(num) + \" adalah angka GENAP\")\n",
    "else:\n",
    "   print(str(num) + \" adalah angka GANJIL\")"
   ]
  },
  {
   "cell_type": "markdown",
   "metadata": {},
   "source": [
    "## 2. Loops\n",
    "\n",
    "**Soal 3:** Buat program yang bisa menampilkan angka 1-10 menggunakan for loop"
   ]
  },
  {
   "cell_type": "code",
   "execution_count": null,
   "metadata": {},
   "outputs": [],
   "source": [
    "# Solusi\n",
    "i = [\"1\", \"2\", \"3\", \"4\", \"5\", \"6\", \"7\", \"8\", \"9\", \"10\"]\n",
    "for i in i:\n",
    "    print(i)\n",
    "\n"
   ]
  },
  {
   "cell_type": "markdown",
   "metadata": {},
   "source": [
    "**Soal 4:** Buat program yang menampilkan angka 1-10 menggunakan while loop\n"
   ]
  },
  {
   "cell_type": "code",
   "execution_count": null,
   "metadata": {},
   "outputs": [],
   "source": [
    "# Solusi\n",
    "i = 1\n",
    "while i < 11:\n",
    "    print(i)\n",
    "    i += 1\n"
   ]
  },
  {
   "cell_type": "markdown",
   "metadata": {},
   "source": [
    "**Soal 5:** Tulis program untuk menampilkan 5x5 asterik(*) menggunakan nested loop"
   ]
  },
  {
   "cell_type": "code",
   "execution_count": null,
   "metadata": {},
   "outputs": [],
   "source": [
    "# Solusi\n",
    "for i in range(5):  \n",
    "    for j in range(5):  \n",
    "        print(\"*\", end=\"\") \n",
    "    print()"
   ]
  },
  {
   "cell_type": "markdown",
   "metadata": {},
   "source": [
    "**Soal 6:** tulis program yang dapat menampilkan segitiga asterik (*) dari 1-angka yang diinput. Misal memasukkan angka 3 maka akan terbentuk segitiga 3 tingkat dari bintang 1, bintang 2, bintang 3"
   ]
  },
  {
   "cell_type": "code",
   "execution_count": null,
   "metadata": {},
   "outputs": [],
   "source": [
    "#Solusi\n",
    "tingkat = int(input(\"Masukkan jumlah tingkat segitiga: \"))\n",
    "\n",
    "# Cetak segitiga\n",
    "for i in range(1, tingkat + 1):\n",
    "    print(\"*\" * i)"
   ]
  },
  {
   "cell_type": "markdown",
   "metadata": {},
   "source": [
    "## 3. Conditional + Loop\n",
    "\n",
    "**Soal 7:** Tulis program untuk menginput angka dan dapat menjumlahkan semua angka yang diinput. masukkan angka 0 untuk berhenti.\n",
    "\n",
    "Misal kita menginput angka 8, 9, 10, 0. Maka output akan menampilkan hasil 27 (dari 8+9+10)"
   ]
  },
  {
   "cell_type": "code",
   "execution_count": null,
   "metadata": {},
   "outputs": [],
   "source": [
    "# Solution\n",
    "# Gunakan break untuk menghentikan program saat memasukkan angka 0\n",
    "total = 0\n",
    "\n",
    "while True:\n",
    "    angka = int(input(\"MASUKKAN ANGKA (0 UNTUK BERHENTI)\"))\n",
    "    if angka == 0:\n",
    "        break\n",
    "    total += angka\n",
    "    print(\"JUMLAH ANGKA\", total)"
   ]
  },
  {
   "cell_type": "markdown",
   "metadata": {},
   "source": [
    "**Soal 8:** Tulis program yang menampilkan angka dari 1-10 kecuali angka 7 menggunakan for loop dan continue"
   ]
  },
  {
   "cell_type": "code",
   "execution_count": null,
   "metadata": {},
   "outputs": [],
   "source": [
    "# Solution\n",
    "# Gunakan continue untuk menskip angka 7\n",
    "\n",
    "for i in range(1, 11):\n",
    "    if i == 7:\n",
    "        continue  \n",
    "    print(i)"
   ]
  },
  {
   "cell_type": "markdown",
   "metadata": {},
   "source": [
    "**Soal 9:** Tulis program untuk menampilkan angka yang termasuk bilangan genap dari 1-angka yang diinput.\n",
    "\n",
    "Misal kita menginput angka 10. Maka angka yang ditampilkan adalah (2,4,6,8,10)"
   ]
  },
  {
   "cell_type": "code",
   "execution_count": null,
   "metadata": {},
   "outputs": [],
   "source": [
    "# Solusi\n",
    " num = int(input(\"Masukkan angka: \"))\n",
    "num_genap = []\n",
    " for i in range(1, angka_input + 1):\n",
    "        if i % 2 == 0:\n",
    "            angka_genap.append(i)\n",
    "print(f\"Angka genap dari 1 hingga {angka_input} adalah: {tuple(angka_genap)}\")"
   ]
  },
  {
   "cell_type": "markdown",
   "metadata": {},
   "source": [
    "**Soal 10:** Tulis program untuk mengecek apakah angka yang diinput merupakan bilangan prima atau tidak"
   ]
  },
  {
   "cell_type": "code",
   "execution_count": null,
   "metadata": {},
   "outputs": [
    {
     "ename": "",
     "evalue": "",
     "output_type": "error",
     "traceback": [
      "\u001b[1;31mRunning cells with 'base (Python 3.13.5)' requires the ipykernel package.\n",
      "\u001b[1;31m<a href='command:jupyter.createPythonEnvAndSelectController'>Create a Python Environment</a> with the required packages.\n",
      "\u001b[1;31mOr install 'ipykernel' using the command: 'conda install -n base ipykernel --update-deps --force-reinstall'"
     ]
    }
   ],
   "source": [
    "# Solusi\n",
    "# Gunakanlah loop dan conditional statement untuk mengecek bilangan tersebut masuk bilangan prima atau tidak\n",
    "\n",
    "num = int(input(\"Masukkan angka: \"))\n",
    "\n",
    "# Bilangan prima adalah angka > 1 dan hanya bisa dibagi 1 dan dirinya sendiri\n",
    "if num <= 1:\n",
    "    print(f\"{num} bukan bilangan prima\")\n",
    "else:\n",
    "    is_prima = True\n",
    "    for i in range(2, int(num**0.5) + 1):  # cukup sampai akar dari num\n",
    "        if num % i == 0:\n",
    "            is_prima = False\n",
    "            break\n",
    "\n",
    "    if is_prima:\n",
    "        print(f\"{num} adalah bilangan prima\")\n",
    "    else:\n",
    "        print(f\"{num} bukan bilangan prima\")\n"
   ]
  },
  {
   "cell_type": "markdown",
   "metadata": {},
   "source": [
    "**Soal 11:** Tulis program untuk menghitung nilai faktorial dari angka yang diinput. Misal input angka 3, maka akan menampilkan hasil 6.\n",
    "\n",
    "Ingat, nilai faktorial dari 3 = 1x2x3 = 6."
   ]
  },
  {
   "cell_type": "code",
   "execution_count": null,
   "metadata": {},
   "outputs": [],
   "source": [
    "# Solution\n",
    "\n"
   ]
  }
 ],
 "metadata": {
  "kernelspec": {
   "display_name": "base",
   "language": "python",
   "name": "python3"
  },
  "language_info": {
   "codemirror_mode": {
    "name": "ipython",
    "version": 3
   },
   "file_extension": ".py",
   "mimetype": "text/x-python",
   "name": "python",
   "nbconvert_exporter": "python",
   "pygments_lexer": "ipython3",
   "version": "3.13.5"
  }
 },
 "nbformat": 4,
 "nbformat_minor": 4
}
