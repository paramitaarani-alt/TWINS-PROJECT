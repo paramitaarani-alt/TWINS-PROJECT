{
 "cells": [
  {
   "cell_type": "markdown",
   "metadata": {},
   "source": [
    "# Python Basics\n",
    "## Topik:\n",
    "- Syntax and Semantics\n",
    "- Variables and Data Types\n",
    "- Basic Operators (Arithmetic, Comparison, Logical)\n"
   ]
  },
  {
   "cell_type": "markdown",
   "metadata": {},
   "source": [
    "## 1. Syntax and Semantics\n",
    "\n",
    "**Soal 1:** Tulislah program untuk menampilkan teks \"Hello, World!\"."
   ]
  },
  {
   "cell_type": "code",
   "execution_count": null,
   "metadata": {},
   "outputs": [],
   "source": [
    "# Solusi\n",
    "print(\"Hello, World!\")\n"
   ]
  },
  {
   "cell_type": "markdown",
   "metadata": {},
   "source": [
    "**Soal 2:** Tulis program untuk menampilkan nama kalian menggunakan input dari kalian sendiri (bukan menggunakan \"print\")"
   ]
  },
  {
   "cell_type": "code",
   "execution_count": null,
   "metadata": {},
   "outputs": [],
   "source": [
    "# Solusi\n",
    "nama = input(\"Masukkan nama kalian: \")\n",
    "nama  "
   ]
  },
  {
   "cell_type": "markdown",
   "metadata": {},
   "source": [
    "**Soal 3:** Tulislah program untuk mendeteksi apakah angka yang kalian masukkan itu positif, negatif, atau nol\n",
    "\n",
    "**Petunjuk**:\n",
    "Pakai conditional statement"
   ]
  },
  {
   "cell_type": "code",
   "execution_count": null,
   "metadata": {},
   "outputs": [],
   "source": [
    "# Solusi\n",
    "number = float(input(\"Masukkan angka: \"))\n",
    "\n",
    "# lanjutkan program dibawah\n",
    "if number > 0:\n",
    "    \"Angka Positif\"\n",
    "elif number < 0:\n",
    "    \"Angka Negatif\"\n",
    "else:\n",
    "    \"Angka nol\""
   ]
  },
  {
   "cell_type": "markdown",
   "metadata": {},
   "source": [
    "**Soal 4:** Tulis program yang dapat mendeteksi angka terbesar dari 3 angka yang dimasukkan"
   ]
  },
  {
   "cell_type": "code",
   "execution_count": null,
   "metadata": {},
   "outputs": [],
   "source": [
    "# Solusi\n",
    "num1 = float(input(\"Masukkan angka pertama: \"))\n",
    "num2 = float(input(\"Masukkan angka kedua: \"))\n",
    "num3 = float(input(\"Masukkan angka ketiga: \"))\n",
    "\n",
    "# lanjutkan program di bawah\n",
    "num1 = float(input(\"Masukkan angka pertama: \"))\n",
    "num2 = float(input(\"Masukkan angka kedua: \"))\n",
    "num3 = float(input(\"Masukkan angka ketiga: \"))\n",
    "\n",
    "if num1 >= num2 and num1 >= num3:\n",
    "    \"Angka terbesar adalah \" + str(num1)\n",
    "elif num2 >= num1 and num2 >= num3:\n",
    "    \"Angka terbesar adalah \" + str(num2)\n",
    "else:\n",
    "    \"Angka terbesar adalah \" + str(num3)\n"
   ]
  },
  {
   "cell_type": "markdown",
   "metadata": {},
   "source": [
    "**Soal 5:** Tulis program yang dapat mendeteksi nilai yang diinput:\n",
    "\n",
    "- nilai >= 90 mendapat A\n",
    "- 80 >= nilai < 90 mendapat B\n",
    "- 70 >= nilai <80 mendapat C\n",
    "- 60 >= nilai < 70 mendapat D\n",
    "- < 60 mendapat nilai E"
   ]
  },
  {
   "cell_type": "code",
   "execution_count": null,
   "metadata": {},
   "outputs": [],
   "source": [
    "# Solusi\n",
    "if nilai >= 90:\n",
    "    \"A\"\n",
    "elif 80 >= nilai < 90:\n",
    "    \"B\"\n",
    "elif 70 >= nilai < 80:\n",
    "    \"C\"\n",
    "elif 60 >= nilai < 70:\n",
    "    \"D\"\n",
    "else:\n",
    "    \"E\"  "
   ]
  },
  {
   "cell_type": "markdown",
   "metadata": {},
   "source": [
    "## 2. Variables and Data Types\n",
    "\n",
    "**Soal 6:** Buat program yang menampilkan 4 variabel dengan tipe data yang berbeda. Kemudian tampilkan data typenya juga"
   ]
  },
  {
   "cell_type": "code",
   "execution_count": null,
   "metadata": {},
   "outputs": [],
   "source": [
    "# Solusi\n",
    "integer_var = 10\n",
    "float_var = 3.14\n",
    "string_var = \"HALOO DUNIAAA\"\n",
    "boolean_var = True \n",
    "\n",
    "#tampilkan variabel beserta data typenya\n",
    "print(\"integer_var =\", integer_var, \", tipe =\", type(integer_var))\n",
    "print(\"float_var   =\", float_var, \", tipe =\", type(float_var))\n",
    "print(\"string_var  =\", string_var, \", tipe =\", type(string_var))\n",
    "print(\"boolean_var =\", boolean_var, \", tipe =\", type(boolean_var))"
   ]
  },
  {
   "cell_type": "markdown",
   "metadata": {},
   "source": [
    "**Soal 7:** Tulis soal untuk menukar nilai 2 variabel\n",
    "\n",
    "**Output** \n",
    "\n",
    "Sebelum ditukar: a = 5, b = 10\n",
    "\n",
    "Setelah ditukar: a = 10, b = 5"
   ]
  },
  {
   "cell_type": "code",
   "execution_count": null,
   "metadata": {},
   "outputs": [],
   "source": [
    "# Solusi\n",
    "a = 5\n",
    "b = 10\n",
    "\n",
    "print(\"Sebelum ditukar: a =\", a, \", b =\", b)\n",
    "a, b = b, a\n",
    "print(\"Setelah ditukar: a=\", b \", b=\" a)"
   ]
  },
  {
   "cell_type": "markdown",
   "metadata": {},
   "source": [
    "**Soal 8:** Tulis program untuk mengubah suhu dari celsius ke fahrenheit"
   ]
  },
  {
   "cell_type": "code",
   "execution_count": null,
   "metadata": {},
   "outputs": [],
   "source": [
    "# Solusi\n",
    "celsius = float(input(\"MASUKKAN SUHU CELCIUS\"))\n",
    "fahrenheit = (celcius*9/5) + 32\n",
    "print(\"SUHU DALAM KONVERSI FARENHEIT\", fahrenheit)\n"
   ]
  },
  {
   "cell_type": "markdown",
   "metadata": {},
   "source": [
    "**Soal 9:** Tulis program untuk menyambungkan 2 string"
   ]
  },
  {
   "cell_type": "code",
   "execution_count": null,
   "metadata": {},
   "outputs": [],
   "source": [
    "# Solution\n",
    "string1 = \"Hello\"\n",
    "string2 = \"World\"\n",
    "concatenated_string = string1 + string2\n",
    "print(concatenated_string)"
   ]
  },
  {
   "cell_type": "markdown",
   "metadata": {},
   "source": [
    "**Soal 10:** Tulis program yang dapat mendeteksi tipe data pada suatu variabel. Misalkan variabel yang dimasukkan 10, maka outputnya adalah integer, dst."
   ]
  },
  {
   "cell_type": "code",
   "execution_count": null,
   "metadata": {},
   "outputs": [
    {
     "name": "stdout",
     "output_type": "stream",
     "text": [
      "Jakarta adalah string\n"
     ]
    }
   ],
   "source": [
    "# Solusi\n",
    "var = input(\"Masukkan nilai variable: \")\n"
   ]
  },
  {
   "cell_type": "markdown",
   "metadata": {},
   "source": [
    "## 3. Basic Operators (Arithmetic, Comparison, Logical)\n",
    "\n",
    "**Soal 11:** Tulis program yang menampilkan output berupa penjumlahan, pengurangan, perkalian, dan pembagian"
   ]
  },
  {
   "cell_type": "code",
   "execution_count": null,
   "metadata": {},
   "outputs": [
    {
     "name": "stdout",
     "output_type": "stream",
     "text": [
      "Addition: 5 + 3 = 8\n",
      "Subtraction: 5 - 3 = 2\n",
      "Multiplication: 5 * 3 = 15\n",
      "Division: 5 / 3 = 1.6666666666666667\n"
     ]
    }
   ],
   "source": [
    "# Solution\n",
    "a = \n",
    "b = \n",
    "\n",
    "#tampilkan hasil penjumlahan, pengurangan, perkalian, dan pembagian"
   ]
  },
  {
   "cell_type": "markdown",
   "metadata": {},
   "source": [
    "**Soal 12:** tulis program yang dapat menampilkan hasil perbandingn: sama dengan, tidak sama dengan, lebih besar dari, kurang dari."
   ]
  },
  {
   "cell_type": "code",
   "execution_count": null,
   "metadata": {},
   "outputs": [],
   "source": [
    "# Solution\n",
    "a = float(input(\"MASUKKAN NILAI a:\"))\n",
    "b = float(input(\"MASUKKAN NILAI b:\"))\n",
    "\n",
    "# Tampilkan hasil sama dengan, tidak sama dengan, lebih besar dari, kurang dari\n",
    "print(f\"{a} == {b} → {a == b}\")       \n",
    "print(f\"{a} != {b} → {a != b}\")       \n",
    "print(f\"{a} > {b} → {a > b}\")         \n",
    "print(f\"{a} < {b} → {a < b}\")         \n"
   ]
  },
  {
   "cell_type": "markdown",
   "metadata": {},
   "source": [
    "**Soal 13:** Tulis program yang menampilkan hasil dari logika operator: and, or, not."
   ]
  },
  {
   "cell_type": "code",
   "execution_count": null,
   "metadata": {},
   "outputs": [],
   "source": [
    "# Solution\n",
    "a = True\n",
    "b = False\n",
    "\n",
    "#and\n",
    "\n",
    "#or\n",
    "\n",
    "#not"
   ]
  },
  {
   "cell_type": "markdown",
   "metadata": {},
   "source": [
    "**Soal 14:** Tulis program untuk menghitung nilai kuadrat dari suatu angka"
   ]
  },
  {
   "cell_type": "code",
   "execution_count": null,
   "metadata": {},
   "outputs": [],
   "source": [
    "# Solusi\n",
    "num = float(input(\"Masukkan angka: \"))\n",
    "\n",
    "# lanjutkan program di bawah\n",
    "\n",
    "num = float(input(\"Masukkan angka: \"))\n",
    "kuadrat = num ** 2\n",
    "print(str(num) + \" kuadrat dari angka adalah \" + str(kuadrat))"
   ]
  },
  {
   "cell_type": "markdown",
   "metadata": {},
   "source": [
    "**Soal 15:** Tulis program untuk mendeteksi angka ganjil atau genap"
   ]
  },
  {
   "cell_type": "code",
   "execution_count": null,
   "metadata": {},
   "outputs": [],
   "source": [
    "# Solusi\n",
    "num = int(input(\"Masukkan angka: \"))\n",
    "\n",
    "#Lanjutkan program di bawah\n",
    "if num % 2 == 0:\n",
    "   print(str(num) + \" adalah angka GENAP\")\n",
    "else:\n",
    "   print(str(num) + \" adalah angka GANJIL\")"
   ]
  },
  {
   "cell_type": "markdown",
   "metadata": {},
   "source": [
    "**Soal 16:** Tulis program yang dapat mendeteksi tahun yang dimasukkan adalah tahun kabisat atau tidak\n",
    "\n",
    "**Petunjuk**\n",
    "\n",
    "Cari syarat2 tahun kabisat lalu buatlah conditional statementnya"
   ]
  },
  {
   "cell_type": "code",
   "execution_count": null,
   "metadata": {},
   "outputs": [],
   "source": [
    "# Solution\n",
    "tahun = int(input(\"Masukkan tahun: \"))\n",
    "\n",
    "# Lanjutkan program di bawah\n"
   ]
  }
 ],
 "metadata": {
  "kernelspec": {
   "display_name": "base",
   "language": "python",
   "name": "python3"
  },
  "language_info": {
   "codemirror_mode": {
    "name": "ipython",
    "version": 3
   },
   "file_extension": ".py",
   "mimetype": "text/x-python",
   "name": "python",
   "nbconvert_exporter": "python",
   "pygments_lexer": "ipython3",
   "version": "3.13.5"
  }
 },
 "nbformat": 4,
 "nbformat_minor": 4
}
